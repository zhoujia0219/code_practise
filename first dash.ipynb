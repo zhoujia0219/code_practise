{
 "cells": [
  {
   "cell_type": "code",
   "execution_count": 2,
   "metadata": {
    "collapsed": true
   },
   "outputs": [],
   "source": [
    "import pandas as pd\n",
    "import plotly.graph_objs as go\n",
    "import dash\n",
    "import dash_core_components as dcc                  # 交互式组件\n",
    "import dash_html_components as html                 # 代码转html\n",
    "from dash.dependencies import Input, Output         # 回调\n",
    "from jupyter_plotly_dash import JupyterDash         # Jupyter中的Dash，如有疑问，见系列文章第2篇【安装】\n",
    "\n",
    "\n",
    "app = JupyterDash('Hello Dash', )\n",
    "app.layout = html.Div(\n",
    "    children = [\n",
    "        html.H1('你好，Dash'),\n",
    "        html.Div('''Dash: Python网络应用框架'''),\n",
    "        dcc.Graph(\n",
    "            id='example-graph',\n",
    "            figure = dict(\n",
    "                data = [{'x': [1, 2, 3], 'y': [4, 1, 2], 'type': 'bar', 'name': '北京'},\n",
    "                        {'x': [1, 2, 3], 'y': [2, 4, 5], 'type': 'bar', 'name': '上海'}],\n",
    "                layout = dict(title = 'Dash数据可视化')\n",
    "            )\n",
    "        )\n",
    "    ]\n",
    ")"
   ]
  },
  {
   "cell_type": "code",
   "execution_count": null,
   "outputs": [],
   "source": [],
   "metadata": {
    "collapsed": false,
    "pycharm": {
     "name": "#%%\n"
    }
   }
  }
 ],
 "metadata": {
  "kernelspec": {
   "name": "pycharm-9f05dc3a",
   "language": "python",
   "display_name": "PyCharm (code)"
  },
  "language_info": {
   "codemirror_mode": {
    "name": "ipython",
    "version": 2
   },
   "file_extension": ".py",
   "mimetype": "text/x-python",
   "name": "python",
   "nbconvert_exporter": "python",
   "pygments_lexer": "ipython2",
   "version": "2.7.6"
  }
 },
 "nbformat": 4,
 "nbformat_minor": 0
}